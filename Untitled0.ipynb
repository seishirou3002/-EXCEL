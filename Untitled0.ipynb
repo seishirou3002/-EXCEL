{
  "nbformat": 4,
  "nbformat_minor": 0,
  "metadata": {
    "colab": {
      "name": "Untitled0.ipynb",
      "version": "0.3.2",
      "provenance": [],
      "collapsed_sections": [],
      "include_colab_link": true
    },
    "kernelspec": {
      "name": "python3",
      "display_name": "Python 3"
    }
  },
  "cells": [
    {
      "cell_type": "markdown",
      "metadata": {
        "id": "view-in-github",
        "colab_type": "text"
      },
      "source": [
        "<a href=\"https://colab.research.google.com/github/seishirou3002/-EXCEL/blob/master/Untitled0.ipynb\" target=\"_parent\"><img src=\"https://colab.research.google.com/assets/colab-badge.svg\" alt=\"Open In Colab\"/></a>"
      ]
    },
    {
      "metadata": {
        "id": "lgm8ErhvowZ2",
        "colab_type": "code",
        "colab": {}
      },
      "cell_type": "code",
      "source": [
        "#excelのURLリストからタイトルを取得する\n",
        "import pandas as pd\n",
        "import requests\n",
        "from bs4 import BeautifulSoup\n",
        "import csv\n",
        "\n",
        "#urlリストを取得する\n",
        "def get_excel_url(path):\n",
        "  df = pd.read_excel(path) #excelデータを読み込む\n",
        "  urlList = df['URL']\n",
        "  return urlList\n",
        "\n",
        "#URLからタイトルを抽出する\n",
        "def get_site_title(urlList):\n",
        "  title_link_list = []\n",
        "  url_link_list =[]\n",
        "  title_list = []\n",
        "  \n",
        "  for row in range(len(urlList)):\n",
        "    target_url = urlList[row] #urlを一つずつ抽出\n",
        "    \n",
        "    #print(target_url)\n",
        "    r = requests.get(target_url)\n",
        "    soup = BeautifulSoup(r.content, \"html.parser\")\n",
        "    \n",
        "    #検索結果タイトルを抽出>\n",
        "    tmp_result = soup.select(\".r > a\")\n",
        "    \n",
        "    for i in range(len(tmp_result)):\n",
        "      url_text = tmp_result[i].get('href').replace('/url?q=','')\n",
        "      title_text = tmp_result[i].get_text()\n",
        "    \n",
        "    url_link_list.append(url_text)\n",
        "    title_list.append(title_text)\n",
        "    #print(title_list)\n",
        "  \n",
        "  title_link_list = [title_list, url_link_list]\n",
        "  return title_list,url_link_list\n",
        "\n",
        "#タイトルを新規作成したexcelファイルに書き込む\n",
        "def set_excel_url(title , url):\n",
        "  with open(\"search_title_list.csv\",'w',encoding='utf-8') as outcsv:\n",
        "    csvwriter = csv.writer(outcsv)\n",
        "    csvwriter.writerow(['タイトル','URL'])\n",
        "    csvwriter.writerow([title,url])\n",
        "    outcsv.close()\n",
        "  \n",
        "  \n",
        "urlList = get_excel_url(\"test_data.xlsx\")\n",
        "#print(get_site_title(urlList))\n",
        "(title,url) = get_site_title(urlList)\n",
        "set_excel_url(title, url)\n"
      ],
      "execution_count": 0,
      "outputs": []
    },
    {
      "metadata": {
        "id": "t1DBdADy2HmB",
        "colab_type": "code",
        "colab": {}
      },
      "cell_type": "code",
      "source": [
        "from google.colab import files\n",
        "uploaded = files.upload()"
      ],
      "execution_count": 0,
      "outputs": []
    }
  ]
}